{
  "cells": [
    {
      "cell_type": "markdown",
      "id": "042c51db",
      "metadata": {
        "id": "042c51db"
      },
      "source": [
        "# More Pandas"
      ]
    },
    {
      "cell_type": "code",
      "execution_count": null,
      "id": "504e6b4d",
      "metadata": {
        "id": "504e6b4d"
      },
      "outputs": [],
      "source": [
        "import pandas as pd\n",
        "titanic_df = pd.read_csv(\"pythonworkshop.csv\")\n",
        "#titanic_df"
      ]
    },
    {
      "cell_type": "markdown",
      "id": "e407960b",
      "metadata": {
        "id": "e407960b"
      },
      "source": [
        "## Summarizing our Dataframe"
      ]
    },
    {
      "cell_type": "markdown",
      "id": "823f1a34",
      "metadata": {
        "id": "823f1a34"
      },
      "source": [
        "There's **891 observations** in this dataframe, and sometimes you are going to be working with **5,000**, **500,000** or **5 million observations**. <br> <br>Let's take a look at some functions to help us summarize!"
      ]
    },
    {
      "cell_type": "markdown",
      "id": "f5af0f01",
      "metadata": {
        "id": "f5af0f01"
      },
      "source": [
        "#### *info()*"
      ]
    },
    {
      "cell_type": "markdown",
      "source": [
        "-prints a summary of a Dataframe, giving us info about each column <br>\n",
        "-helps us learn more about the dataset before we start <br>\n",
        "-tells us: <br>\n",
        "&nbsp;&nbsp;&nbsp;&nbsp;&nbsp;&nbsp;-# of non-null values in each columns <br>\n",
        "&nbsp;&nbsp;&nbsp;&nbsp;&nbsp;&nbsp;-datatype of each column ( ints, floats, or strings)"
      ],
      "metadata": {
        "id": "emRdusuDvp_I"
      },
      "id": "emRdusuDvp_I"
    },
    {
      "cell_type": "code",
      "execution_count": null,
      "id": "b385ecc9",
      "metadata": {
        "colab": {
          "base_uri": "https://localhost:8080/"
        },
        "id": "b385ecc9",
        "outputId": "562cb13b-103c-45d8-ce1c-a51ffe3f99c7"
      },
      "outputs": [
        {
          "output_type": "stream",
          "name": "stdout",
          "text": [
            "<class 'pandas.core.frame.DataFrame'>\n",
            "RangeIndex: 891 entries, 0 to 890\n",
            "Data columns (total 10 columns):\n",
            " #   Column       Non-Null Count  Dtype  \n",
            "---  ------       --------------  -----  \n",
            " 0   PassengerId  891 non-null    int64  \n",
            " 1   Survived     891 non-null    int64  \n",
            " 2   Class        891 non-null    int64  \n",
            " 3   Name         891 non-null    object \n",
            " 4   Sex          891 non-null    object \n",
            " 5   Age          714 non-null    float64\n",
            " 6   Ticket       891 non-null    object \n",
            " 7   Fare         779 non-null    float64\n",
            " 8   Cabin        204 non-null    object \n",
            " 9   Port         889 non-null    object \n",
            "dtypes: float64(2), int64(3), object(5)\n",
            "memory usage: 69.7+ KB\n"
          ]
        }
      ],
      "source": [
        "titanic_df.info()"
      ]
    },
    {
      "cell_type": "markdown",
      "id": "4631c794",
      "metadata": {
        "id": "4631c794"
      },
      "source": [
        "### Examining Distribution of Numerical Features"
      ]
    },
    {
      "cell_type": "markdown",
      "id": "3fd29926",
      "metadata": {
        "id": "3fd29926"
      },
      "source": [
        "#### *describe()*:\n",
        "-generates descriptive statistics about numerical and/or categorical features <br>\n",
        "-excludes **null** values"
      ]
    },
    {
      "cell_type": "code",
      "execution_count": null,
      "id": "4539674c",
      "metadata": {
        "colab": {
          "base_uri": "https://localhost:8080/",
          "height": 206
        },
        "id": "4539674c",
        "outputId": "c4a4e6ec-de35-458c-a2e3-ca7fbcb5a6d0"
      },
      "outputs": [
        {
          "output_type": "execute_result",
          "data": {
            "text/plain": [
              "             count        mean         std   min   1%    10%    50%       90%  \\\n",
              "PassengerId  891.0  446.000000  257.353842  1.00  9.9  90.00  446.0  802.0000   \n",
              "Survived     891.0    0.383838    0.486592  0.00  0.0   0.00    0.0    1.0000   \n",
              "Class        891.0    2.308642    0.836071  1.00  1.0   1.00    3.0    3.0000   \n",
              "Age          714.0   29.699118   14.526497  0.42  1.0  14.00   28.0   50.0000   \n",
              "Fare         779.0   31.164612   47.741674  0.00  0.0   7.55   14.4   77.2875   \n",
              "\n",
              "                    99%       max  \n",
              "PassengerId  882.100000  891.0000  \n",
              "Survived       1.000000    1.0000  \n",
              "Class          3.000000    3.0000  \n",
              "Age           65.870000   80.0000  \n",
              "Fare         250.788724  512.3292  "
            ],
            "text/html": [
              "\n",
              "  <div id=\"df-2ef49db7-af7c-44ea-8fa6-8b2323cc841a\">\n",
              "    <div class=\"colab-df-container\">\n",
              "      <div>\n",
              "<style scoped>\n",
              "    .dataframe tbody tr th:only-of-type {\n",
              "        vertical-align: middle;\n",
              "    }\n",
              "\n",
              "    .dataframe tbody tr th {\n",
              "        vertical-align: top;\n",
              "    }\n",
              "\n",
              "    .dataframe thead th {\n",
              "        text-align: right;\n",
              "    }\n",
              "</style>\n",
              "<table border=\"1\" class=\"dataframe\">\n",
              "  <thead>\n",
              "    <tr style=\"text-align: right;\">\n",
              "      <th></th>\n",
              "      <th>count</th>\n",
              "      <th>mean</th>\n",
              "      <th>std</th>\n",
              "      <th>min</th>\n",
              "      <th>1%</th>\n",
              "      <th>10%</th>\n",
              "      <th>50%</th>\n",
              "      <th>90%</th>\n",
              "      <th>99%</th>\n",
              "      <th>max</th>\n",
              "    </tr>\n",
              "  </thead>\n",
              "  <tbody>\n",
              "    <tr>\n",
              "      <th>PassengerId</th>\n",
              "      <td>891.0</td>\n",
              "      <td>446.000000</td>\n",
              "      <td>257.353842</td>\n",
              "      <td>1.00</td>\n",
              "      <td>9.9</td>\n",
              "      <td>90.00</td>\n",
              "      <td>446.0</td>\n",
              "      <td>802.0000</td>\n",
              "      <td>882.100000</td>\n",
              "      <td>891.0000</td>\n",
              "    </tr>\n",
              "    <tr>\n",
              "      <th>Survived</th>\n",
              "      <td>891.0</td>\n",
              "      <td>0.383838</td>\n",
              "      <td>0.486592</td>\n",
              "      <td>0.00</td>\n",
              "      <td>0.0</td>\n",
              "      <td>0.00</td>\n",
              "      <td>0.0</td>\n",
              "      <td>1.0000</td>\n",
              "      <td>1.000000</td>\n",
              "      <td>1.0000</td>\n",
              "    </tr>\n",
              "    <tr>\n",
              "      <th>Class</th>\n",
              "      <td>891.0</td>\n",
              "      <td>2.308642</td>\n",
              "      <td>0.836071</td>\n",
              "      <td>1.00</td>\n",
              "      <td>1.0</td>\n",
              "      <td>1.00</td>\n",
              "      <td>3.0</td>\n",
              "      <td>3.0000</td>\n",
              "      <td>3.000000</td>\n",
              "      <td>3.0000</td>\n",
              "    </tr>\n",
              "    <tr>\n",
              "      <th>Age</th>\n",
              "      <td>714.0</td>\n",
              "      <td>29.699118</td>\n",
              "      <td>14.526497</td>\n",
              "      <td>0.42</td>\n",
              "      <td>1.0</td>\n",
              "      <td>14.00</td>\n",
              "      <td>28.0</td>\n",
              "      <td>50.0000</td>\n",
              "      <td>65.870000</td>\n",
              "      <td>80.0000</td>\n",
              "    </tr>\n",
              "    <tr>\n",
              "      <th>Fare</th>\n",
              "      <td>779.0</td>\n",
              "      <td>31.164612</td>\n",
              "      <td>47.741674</td>\n",
              "      <td>0.00</td>\n",
              "      <td>0.0</td>\n",
              "      <td>7.55</td>\n",
              "      <td>14.4</td>\n",
              "      <td>77.2875</td>\n",
              "      <td>250.788724</td>\n",
              "      <td>512.3292</td>\n",
              "    </tr>\n",
              "  </tbody>\n",
              "</table>\n",
              "</div>\n",
              "      <button class=\"colab-df-convert\" onclick=\"convertToInteractive('df-2ef49db7-af7c-44ea-8fa6-8b2323cc841a')\"\n",
              "              title=\"Convert this dataframe to an interactive table.\"\n",
              "              style=\"display:none;\">\n",
              "        \n",
              "  <svg xmlns=\"http://www.w3.org/2000/svg\" height=\"24px\"viewBox=\"0 0 24 24\"\n",
              "       width=\"24px\">\n",
              "    <path d=\"M0 0h24v24H0V0z\" fill=\"none\"/>\n",
              "    <path d=\"M18.56 5.44l.94 2.06.94-2.06 2.06-.94-2.06-.94-.94-2.06-.94 2.06-2.06.94zm-11 1L8.5 8.5l.94-2.06 2.06-.94-2.06-.94L8.5 2.5l-.94 2.06-2.06.94zm10 10l.94 2.06.94-2.06 2.06-.94-2.06-.94-.94-2.06-.94 2.06-2.06.94z\"/><path d=\"M17.41 7.96l-1.37-1.37c-.4-.4-.92-.59-1.43-.59-.52 0-1.04.2-1.43.59L10.3 9.45l-7.72 7.72c-.78.78-.78 2.05 0 2.83L4 21.41c.39.39.9.59 1.41.59.51 0 1.02-.2 1.41-.59l7.78-7.78 2.81-2.81c.8-.78.8-2.07 0-2.86zM5.41 20L4 18.59l7.72-7.72 1.47 1.35L5.41 20z\"/>\n",
              "  </svg>\n",
              "      </button>\n",
              "      \n",
              "  <style>\n",
              "    .colab-df-container {\n",
              "      display:flex;\n",
              "      flex-wrap:wrap;\n",
              "      gap: 12px;\n",
              "    }\n",
              "\n",
              "    .colab-df-convert {\n",
              "      background-color: #E8F0FE;\n",
              "      border: none;\n",
              "      border-radius: 50%;\n",
              "      cursor: pointer;\n",
              "      display: none;\n",
              "      fill: #1967D2;\n",
              "      height: 32px;\n",
              "      padding: 0 0 0 0;\n",
              "      width: 32px;\n",
              "    }\n",
              "\n",
              "    .colab-df-convert:hover {\n",
              "      background-color: #E2EBFA;\n",
              "      box-shadow: 0px 1px 2px rgba(60, 64, 67, 0.3), 0px 1px 3px 1px rgba(60, 64, 67, 0.15);\n",
              "      fill: #174EA6;\n",
              "    }\n",
              "\n",
              "    [theme=dark] .colab-df-convert {\n",
              "      background-color: #3B4455;\n",
              "      fill: #D2E3FC;\n",
              "    }\n",
              "\n",
              "    [theme=dark] .colab-df-convert:hover {\n",
              "      background-color: #434B5C;\n",
              "      box-shadow: 0px 1px 3px 1px rgba(0, 0, 0, 0.15);\n",
              "      filter: drop-shadow(0px 1px 2px rgba(0, 0, 0, 0.3));\n",
              "      fill: #FFFFFF;\n",
              "    }\n",
              "  </style>\n",
              "\n",
              "      <script>\n",
              "        const buttonEl =\n",
              "          document.querySelector('#df-2ef49db7-af7c-44ea-8fa6-8b2323cc841a button.colab-df-convert');\n",
              "        buttonEl.style.display =\n",
              "          google.colab.kernel.accessAllowed ? 'block' : 'none';\n",
              "\n",
              "        async function convertToInteractive(key) {\n",
              "          const element = document.querySelector('#df-2ef49db7-af7c-44ea-8fa6-8b2323cc841a');\n",
              "          const dataTable =\n",
              "            await google.colab.kernel.invokeFunction('convertToInteractive',\n",
              "                                                     [key], {});\n",
              "          if (!dataTable) return;\n",
              "\n",
              "          const docLinkHtml = 'Like what you see? Visit the ' +\n",
              "            '<a target=\"_blank\" href=https://colab.research.google.com/notebooks/data_table.ipynb>data table notebook</a>'\n",
              "            + ' to learn more about interactive tables.';\n",
              "          element.innerHTML = '';\n",
              "          dataTable['output_type'] = 'display_data';\n",
              "          await google.colab.output.renderOutput(dataTable, element);\n",
              "          const docLink = document.createElement('div');\n",
              "          docLink.innerHTML = docLinkHtml;\n",
              "          element.appendChild(docLink);\n",
              "        }\n",
              "      </script>\n",
              "    </div>\n",
              "  </div>\n",
              "  "
            ]
          },
          "metadata": {},
          "execution_count": 24
        }
      ],
      "source": [
        "titanic_df.describe(percentiles = [0.01,0.1, 0.9, 0.99]).T"
      ]
    },
    {
      "cell_type": "markdown",
      "id": "ba91df10",
      "metadata": {
        "id": "ba91df10"
      },
      "source": [
        "Observations of *describe()*: <br>\n",
        "-*.T* is the transpose of the data frame (swaps rows and columns around) <br>\n",
        "-can specify percentiles with this parameter: *percentiles = [0.01,0.1,0.9,0.99, ....]* <br>\n",
        "&nbsp;&nbsp;&nbsp;&nbsp;&nbsp;&nbsp;-useful to find trends/distribution in data <br> <br>"
      ]
    },
    {
      "cell_type": "markdown",
      "id": "6b48bbca",
      "metadata": {
        "id": "6b48bbca"
      },
      "source": [
        "**Question**: What columns are we missing from our dataset? What do those columns have in common? <br>(hint: look at our info() summary)"
      ]
    },
    {
      "cell_type": "code",
      "execution_count": null,
      "id": "70660c96",
      "metadata": {
        "id": "70660c96"
      },
      "outputs": [],
      "source": [
        "#answer"
      ]
    },
    {
      "cell_type": "markdown",
      "id": "64eac0e5",
      "metadata": {
        "id": "64eac0e5"
      },
      "source": [
        "### Examining Distribution of Categorical Features"
      ]
    },
    {
      "cell_type": "code",
      "execution_count": null,
      "id": "a7016bae",
      "metadata": {
        "scrolled": true,
        "colab": {
          "base_uri": "https://localhost:8080/",
          "height": 206
        },
        "id": "a7016bae",
        "outputId": "5897ea48-890c-4ad0-f6ea-96c3c70803cf"
      },
      "outputs": [
        {
          "output_type": "execute_result",
          "data": {
            "text/plain": [
              "       count unique                      top freq\n",
              "Name     891    891  Braund, Mr. Owen Harris    1\n",
              "Sex      891      2                     male  577\n",
              "Ticket   891    681                   347082    7\n",
              "Cabin    204    147                  B96 B98    4\n",
              "Port     889      3                        S  644"
            ],
            "text/html": [
              "\n",
              "  <div id=\"df-7db39043-6f56-476f-9a3b-4782add0bc18\">\n",
              "    <div class=\"colab-df-container\">\n",
              "      <div>\n",
              "<style scoped>\n",
              "    .dataframe tbody tr th:only-of-type {\n",
              "        vertical-align: middle;\n",
              "    }\n",
              "\n",
              "    .dataframe tbody tr th {\n",
              "        vertical-align: top;\n",
              "    }\n",
              "\n",
              "    .dataframe thead th {\n",
              "        text-align: right;\n",
              "    }\n",
              "</style>\n",
              "<table border=\"1\" class=\"dataframe\">\n",
              "  <thead>\n",
              "    <tr style=\"text-align: right;\">\n",
              "      <th></th>\n",
              "      <th>count</th>\n",
              "      <th>unique</th>\n",
              "      <th>top</th>\n",
              "      <th>freq</th>\n",
              "    </tr>\n",
              "  </thead>\n",
              "  <tbody>\n",
              "    <tr>\n",
              "      <th>Name</th>\n",
              "      <td>891</td>\n",
              "      <td>891</td>\n",
              "      <td>Braund, Mr. Owen Harris</td>\n",
              "      <td>1</td>\n",
              "    </tr>\n",
              "    <tr>\n",
              "      <th>Sex</th>\n",
              "      <td>891</td>\n",
              "      <td>2</td>\n",
              "      <td>male</td>\n",
              "      <td>577</td>\n",
              "    </tr>\n",
              "    <tr>\n",
              "      <th>Ticket</th>\n",
              "      <td>891</td>\n",
              "      <td>681</td>\n",
              "      <td>347082</td>\n",
              "      <td>7</td>\n",
              "    </tr>\n",
              "    <tr>\n",
              "      <th>Cabin</th>\n",
              "      <td>204</td>\n",
              "      <td>147</td>\n",
              "      <td>B96 B98</td>\n",
              "      <td>4</td>\n",
              "    </tr>\n",
              "    <tr>\n",
              "      <th>Port</th>\n",
              "      <td>889</td>\n",
              "      <td>3</td>\n",
              "      <td>S</td>\n",
              "      <td>644</td>\n",
              "    </tr>\n",
              "  </tbody>\n",
              "</table>\n",
              "</div>\n",
              "      <button class=\"colab-df-convert\" onclick=\"convertToInteractive('df-7db39043-6f56-476f-9a3b-4782add0bc18')\"\n",
              "              title=\"Convert this dataframe to an interactive table.\"\n",
              "              style=\"display:none;\">\n",
              "        \n",
              "  <svg xmlns=\"http://www.w3.org/2000/svg\" height=\"24px\"viewBox=\"0 0 24 24\"\n",
              "       width=\"24px\">\n",
              "    <path d=\"M0 0h24v24H0V0z\" fill=\"none\"/>\n",
              "    <path d=\"M18.56 5.44l.94 2.06.94-2.06 2.06-.94-2.06-.94-.94-2.06-.94 2.06-2.06.94zm-11 1L8.5 8.5l.94-2.06 2.06-.94-2.06-.94L8.5 2.5l-.94 2.06-2.06.94zm10 10l.94 2.06.94-2.06 2.06-.94-2.06-.94-.94-2.06-.94 2.06-2.06.94z\"/><path d=\"M17.41 7.96l-1.37-1.37c-.4-.4-.92-.59-1.43-.59-.52 0-1.04.2-1.43.59L10.3 9.45l-7.72 7.72c-.78.78-.78 2.05 0 2.83L4 21.41c.39.39.9.59 1.41.59.51 0 1.02-.2 1.41-.59l7.78-7.78 2.81-2.81c.8-.78.8-2.07 0-2.86zM5.41 20L4 18.59l7.72-7.72 1.47 1.35L5.41 20z\"/>\n",
              "  </svg>\n",
              "      </button>\n",
              "      \n",
              "  <style>\n",
              "    .colab-df-container {\n",
              "      display:flex;\n",
              "      flex-wrap:wrap;\n",
              "      gap: 12px;\n",
              "    }\n",
              "\n",
              "    .colab-df-convert {\n",
              "      background-color: #E8F0FE;\n",
              "      border: none;\n",
              "      border-radius: 50%;\n",
              "      cursor: pointer;\n",
              "      display: none;\n",
              "      fill: #1967D2;\n",
              "      height: 32px;\n",
              "      padding: 0 0 0 0;\n",
              "      width: 32px;\n",
              "    }\n",
              "\n",
              "    .colab-df-convert:hover {\n",
              "      background-color: #E2EBFA;\n",
              "      box-shadow: 0px 1px 2px rgba(60, 64, 67, 0.3), 0px 1px 3px 1px rgba(60, 64, 67, 0.15);\n",
              "      fill: #174EA6;\n",
              "    }\n",
              "\n",
              "    [theme=dark] .colab-df-convert {\n",
              "      background-color: #3B4455;\n",
              "      fill: #D2E3FC;\n",
              "    }\n",
              "\n",
              "    [theme=dark] .colab-df-convert:hover {\n",
              "      background-color: #434B5C;\n",
              "      box-shadow: 0px 1px 3px 1px rgba(0, 0, 0, 0.15);\n",
              "      filter: drop-shadow(0px 1px 2px rgba(0, 0, 0, 0.3));\n",
              "      fill: #FFFFFF;\n",
              "    }\n",
              "  </style>\n",
              "\n",
              "      <script>\n",
              "        const buttonEl =\n",
              "          document.querySelector('#df-7db39043-6f56-476f-9a3b-4782add0bc18 button.colab-df-convert');\n",
              "        buttonEl.style.display =\n",
              "          google.colab.kernel.accessAllowed ? 'block' : 'none';\n",
              "\n",
              "        async function convertToInteractive(key) {\n",
              "          const element = document.querySelector('#df-7db39043-6f56-476f-9a3b-4782add0bc18');\n",
              "          const dataTable =\n",
              "            await google.colab.kernel.invokeFunction('convertToInteractive',\n",
              "                                                     [key], {});\n",
              "          if (!dataTable) return;\n",
              "\n",
              "          const docLinkHtml = 'Like what you see? Visit the ' +\n",
              "            '<a target=\"_blank\" href=https://colab.research.google.com/notebooks/data_table.ipynb>data table notebook</a>'\n",
              "            + ' to learn more about interactive tables.';\n",
              "          element.innerHTML = '';\n",
              "          dataTable['output_type'] = 'display_data';\n",
              "          await google.colab.output.renderOutput(dataTable, element);\n",
              "          const docLink = document.createElement('div');\n",
              "          docLink.innerHTML = docLinkHtml;\n",
              "          element.appendChild(docLink);\n",
              "        }\n",
              "      </script>\n",
              "    </div>\n",
              "  </div>\n",
              "  "
            ]
          },
          "metadata": {},
          "execution_count": 6
        }
      ],
      "source": [
        "titanic_df.describe(include = ['O']).T"
      ]
    },
    {
      "cell_type": "markdown",
      "id": "a435bc12",
      "metadata": {
        "id": "a435bc12"
      },
      "source": [
        "Note: the *'O'* stands for columns that have object data type (remember the summary specifies the types of the column) <br>\n",
        "\n",
        "To learn more about the different parameters of *describe()*, check out: <br>\n",
        "https://pandas.pydata.org/docs/reference/api/pandas.DataFrame.describe.html"
      ]
    },
    {
      "cell_type": "markdown",
      "id": "77729bac",
      "metadata": {
        "id": "77729bac"
      },
      "source": [
        "## What are some possible features that might have correlation?"
      ]
    },
    {
      "cell_type": "code",
      "execution_count": null,
      "id": "93379379",
      "metadata": {
        "colab": {
          "base_uri": "https://localhost:8080/",
          "height": 206
        },
        "id": "93379379",
        "outputId": "33230991-2658-4fe2-a1a1-f6ea9ab32628"
      },
      "outputs": [
        {
          "output_type": "execute_result",
          "data": {
            "text/plain": [
              "             PassengerId  Survived     Class       Age      Fare\n",
              "PassengerId     1.000000 -0.005007 -0.035144  0.036847  0.000892\n",
              "Survived       -0.005007  1.000000 -0.338481 -0.077221  0.254752\n",
              "Class          -0.035144 -0.338481  1.000000 -0.369226 -0.553901\n",
              "Age             0.036847 -0.077221 -0.369226  1.000000  0.123293\n",
              "Fare            0.000892  0.254752 -0.553901  0.123293  1.000000"
            ],
            "text/html": [
              "\n",
              "  <div id=\"df-b07b3b2b-47b4-4891-a436-4b55c9aca830\">\n",
              "    <div class=\"colab-df-container\">\n",
              "      <div>\n",
              "<style scoped>\n",
              "    .dataframe tbody tr th:only-of-type {\n",
              "        vertical-align: middle;\n",
              "    }\n",
              "\n",
              "    .dataframe tbody tr th {\n",
              "        vertical-align: top;\n",
              "    }\n",
              "\n",
              "    .dataframe thead th {\n",
              "        text-align: right;\n",
              "    }\n",
              "</style>\n",
              "<table border=\"1\" class=\"dataframe\">\n",
              "  <thead>\n",
              "    <tr style=\"text-align: right;\">\n",
              "      <th></th>\n",
              "      <th>PassengerId</th>\n",
              "      <th>Survived</th>\n",
              "      <th>Class</th>\n",
              "      <th>Age</th>\n",
              "      <th>Fare</th>\n",
              "    </tr>\n",
              "  </thead>\n",
              "  <tbody>\n",
              "    <tr>\n",
              "      <th>PassengerId</th>\n",
              "      <td>1.000000</td>\n",
              "      <td>-0.005007</td>\n",
              "      <td>-0.035144</td>\n",
              "      <td>0.036847</td>\n",
              "      <td>0.000892</td>\n",
              "    </tr>\n",
              "    <tr>\n",
              "      <th>Survived</th>\n",
              "      <td>-0.005007</td>\n",
              "      <td>1.000000</td>\n",
              "      <td>-0.338481</td>\n",
              "      <td>-0.077221</td>\n",
              "      <td>0.254752</td>\n",
              "    </tr>\n",
              "    <tr>\n",
              "      <th>Class</th>\n",
              "      <td>-0.035144</td>\n",
              "      <td>-0.338481</td>\n",
              "      <td>1.000000</td>\n",
              "      <td>-0.369226</td>\n",
              "      <td>-0.553901</td>\n",
              "    </tr>\n",
              "    <tr>\n",
              "      <th>Age</th>\n",
              "      <td>0.036847</td>\n",
              "      <td>-0.077221</td>\n",
              "      <td>-0.369226</td>\n",
              "      <td>1.000000</td>\n",
              "      <td>0.123293</td>\n",
              "    </tr>\n",
              "    <tr>\n",
              "      <th>Fare</th>\n",
              "      <td>0.000892</td>\n",
              "      <td>0.254752</td>\n",
              "      <td>-0.553901</td>\n",
              "      <td>0.123293</td>\n",
              "      <td>1.000000</td>\n",
              "    </tr>\n",
              "  </tbody>\n",
              "</table>\n",
              "</div>\n",
              "      <button class=\"colab-df-convert\" onclick=\"convertToInteractive('df-b07b3b2b-47b4-4891-a436-4b55c9aca830')\"\n",
              "              title=\"Convert this dataframe to an interactive table.\"\n",
              "              style=\"display:none;\">\n",
              "        \n",
              "  <svg xmlns=\"http://www.w3.org/2000/svg\" height=\"24px\"viewBox=\"0 0 24 24\"\n",
              "       width=\"24px\">\n",
              "    <path d=\"M0 0h24v24H0V0z\" fill=\"none\"/>\n",
              "    <path d=\"M18.56 5.44l.94 2.06.94-2.06 2.06-.94-2.06-.94-.94-2.06-.94 2.06-2.06.94zm-11 1L8.5 8.5l.94-2.06 2.06-.94-2.06-.94L8.5 2.5l-.94 2.06-2.06.94zm10 10l.94 2.06.94-2.06 2.06-.94-2.06-.94-.94-2.06-.94 2.06-2.06.94z\"/><path d=\"M17.41 7.96l-1.37-1.37c-.4-.4-.92-.59-1.43-.59-.52 0-1.04.2-1.43.59L10.3 9.45l-7.72 7.72c-.78.78-.78 2.05 0 2.83L4 21.41c.39.39.9.59 1.41.59.51 0 1.02-.2 1.41-.59l7.78-7.78 2.81-2.81c.8-.78.8-2.07 0-2.86zM5.41 20L4 18.59l7.72-7.72 1.47 1.35L5.41 20z\"/>\n",
              "  </svg>\n",
              "      </button>\n",
              "      \n",
              "  <style>\n",
              "    .colab-df-container {\n",
              "      display:flex;\n",
              "      flex-wrap:wrap;\n",
              "      gap: 12px;\n",
              "    }\n",
              "\n",
              "    .colab-df-convert {\n",
              "      background-color: #E8F0FE;\n",
              "      border: none;\n",
              "      border-radius: 50%;\n",
              "      cursor: pointer;\n",
              "      display: none;\n",
              "      fill: #1967D2;\n",
              "      height: 32px;\n",
              "      padding: 0 0 0 0;\n",
              "      width: 32px;\n",
              "    }\n",
              "\n",
              "    .colab-df-convert:hover {\n",
              "      background-color: #E2EBFA;\n",
              "      box-shadow: 0px 1px 2px rgba(60, 64, 67, 0.3), 0px 1px 3px 1px rgba(60, 64, 67, 0.15);\n",
              "      fill: #174EA6;\n",
              "    }\n",
              "\n",
              "    [theme=dark] .colab-df-convert {\n",
              "      background-color: #3B4455;\n",
              "      fill: #D2E3FC;\n",
              "    }\n",
              "\n",
              "    [theme=dark] .colab-df-convert:hover {\n",
              "      background-color: #434B5C;\n",
              "      box-shadow: 0px 1px 3px 1px rgba(0, 0, 0, 0.15);\n",
              "      filter: drop-shadow(0px 1px 2px rgba(0, 0, 0, 0.3));\n",
              "      fill: #FFFFFF;\n",
              "    }\n",
              "  </style>\n",
              "\n",
              "      <script>\n",
              "        const buttonEl =\n",
              "          document.querySelector('#df-b07b3b2b-47b4-4891-a436-4b55c9aca830 button.colab-df-convert');\n",
              "        buttonEl.style.display =\n",
              "          google.colab.kernel.accessAllowed ? 'block' : 'none';\n",
              "\n",
              "        async function convertToInteractive(key) {\n",
              "          const element = document.querySelector('#df-b07b3b2b-47b4-4891-a436-4b55c9aca830');\n",
              "          const dataTable =\n",
              "            await google.colab.kernel.invokeFunction('convertToInteractive',\n",
              "                                                     [key], {});\n",
              "          if (!dataTable) return;\n",
              "\n",
              "          const docLinkHtml = 'Like what you see? Visit the ' +\n",
              "            '<a target=\"_blank\" href=https://colab.research.google.com/notebooks/data_table.ipynb>data table notebook</a>'\n",
              "            + ' to learn more about interactive tables.';\n",
              "          element.innerHTML = '';\n",
              "          dataTable['output_type'] = 'display_data';\n",
              "          await google.colab.output.renderOutput(dataTable, element);\n",
              "          const docLink = document.createElement('div');\n",
              "          docLink.innerHTML = docLinkHtml;\n",
              "          element.appendChild(docLink);\n",
              "        }\n",
              "      </script>\n",
              "    </div>\n",
              "  </div>\n",
              "  "
            ]
          },
          "metadata": {},
          "execution_count": 7
        }
      ],
      "source": [
        "titanic_df.corr()\n",
        "#creates a correlation matrix of all the correlation pairs of all the columns"
      ]
    },
    {
      "cell_type": "markdown",
      "source": [
        "REMEMBER: correlation measures the strength of the linear \n",
        "relationship between two variables\n",
        "\n"
      ],
      "metadata": {
        "id": "mfpnGF49wdSo"
      },
      "id": "mfpnGF49wdSo"
    },
    {
      "cell_type": "markdown",
      "id": "8a4775c5",
      "metadata": {
        "id": "8a4775c5"
      },
      "source": [
        "### How to go about looking at the relation between two binary features, like sex and survived?"
      ]
    },
    {
      "cell_type": "markdown",
      "source": [
        "Question: What's the proportions of males that survived and did not survive?\n",
        "\n",
        "\n",
        "Approach:\n",
        "1. Filter out all the females\n",
        "2. Get the survived column of all those males\n",
        "3. Count the unique values in the column (use value_counts(), and look at it's documentation below)\n",
        "4. Convert into proportions (look at the documentation of value_counts() https://pandas.pydata.org/docs/reference/api/pandas.Series.value_counts.html?highlight=value_counts#pandas.Series.value_counts) <br>\n",
        "\n",
        "Note that the documentation says Series.value_counts(), which means you must call the function on a series/column"
      ],
      "metadata": {
        "id": "N1bbWznczoZ6"
      },
      "id": "N1bbWznczoZ6"
    },
    {
      "cell_type": "code",
      "source": [
        "#try it out here"
      ],
      "metadata": {
        "id": "_Uuh1uOAzi1V"
      },
      "id": "_Uuh1uOAzi1V",
      "execution_count": null,
      "outputs": []
    },
    {
      "cell_type": "markdown",
      "id": "fa3f206b",
      "metadata": {
        "id": "fa3f206b"
      },
      "source": [
        "# Matplotlib & Seaborn: Let's Visualize Data!!"
      ]
    },
    {
      "cell_type": "code",
      "execution_count": null,
      "id": "89dd83a6",
      "metadata": {
        "id": "89dd83a6"
      },
      "outputs": [],
      "source": [
        "#as always, import the packages first\n",
        "import seaborn as sns\n",
        "import matplotlib.pyplot as plt"
      ]
    },
    {
      "cell_type": "markdown",
      "id": "50cdf4f9",
      "metadata": {
        "id": "50cdf4f9"
      },
      "source": [
        "## plot() \n",
        "\n",
        "-to plot y versus x as lines and/or markers <br>\n",
        "-If we only specify one array in the function, then that will represent the y-coordinates of the data points"
      ]
    },
    {
      "cell_type": "code",
      "execution_count": null,
      "id": "68f2f302",
      "metadata": {
        "colab": {
          "base_uri": "https://localhost:8080/",
          "height": 265
        },
        "id": "68f2f302",
        "outputId": "a2e2f0fe-799e-4eb4-a04e-f55e67f4d6be"
      },
      "outputs": [
        {
          "output_type": "display_data",
          "data": {
            "text/plain": [
              "<Figure size 432x288 with 1 Axes>"
            ],
            "image/png": "[encoded data removed]"
          },
          "metadata": {
            "needs_background": "light"
          }
        }
      ],
      "source": [
        "plt.plot([1,2]) \n",
        "#Note: the interval for x will start at 0, and its length will be the same as the specified interval for y\n",
        "plt.plot([1,3])\n",
        "plt.show()"
      ]
    },
    {
      "cell_type": "markdown",
      "id": "ffdc24ee",
      "metadata": {
        "id": "ffdc24ee"
      },
      "source": [
        "To create points on the xy plane, you must specify after your arrays with a specific marker, such as \"o\" or \"*\", or \"x\". To change the color, you can also add a marker such as \"r\" for red, \"b\" for blue, etc."
      ]
    },
    {
      "cell_type": "code",
      "execution_count": null,
      "id": "98aed67c",
      "metadata": {
        "colab": {
          "base_uri": "https://localhost:8080/",
          "height": 265
        },
        "id": "98aed67c",
        "outputId": "7d13b467-d576-4790-fa90-5190f8f8323e"
      },
      "outputs": [
        {
          "output_type": "display_data",
          "data": {
            "text/plain": [
              "<Figure size 432x288 with 1 Axes>"
            ],
            "image/png": "[encoded data removed]"
          },
          "metadata": {
            "needs_background": "light"
          }
        }
      ],
      "source": [
        "plt.plot([1,4], \"r--\")\n",
        "plt.plot([1,3], \"go\") #Note default x values will be 0,1\n",
        "plt.plot([0,1,2,3], [0,1,4,9], \"b*\")\n",
        "plt.plot([0,1,2,3], [0,1,4,9], \"m\")\n",
        "plt.show()\n",
        "#To learn more about the different markers, check out the documentation:\n",
        "#https://matplotlib.org/stable/api/_as_gen/matplotlib.pyplot.plot.html"
      ]
    },
    {
      "cell_type": "markdown",
      "id": "238392db",
      "metadata": {
        "id": "238392db"
      },
      "source": [
        "## Histogram"
      ]
    },
    {
      "cell_type": "code",
      "execution_count": null,
      "id": "0df7637d",
      "metadata": {
        "colab": {
          "base_uri": "https://localhost:8080/",
          "height": 295
        },
        "id": "0df7637d",
        "outputId": "1ff33009-edd7-4621-fea5-35117b0a0300"
      },
      "outputs": [
        {
          "output_type": "display_data",
          "data": {
            "text/plain": [
              "<Figure size 432x288 with 1 Axes>"
            ],
            "image/png": "[encoded data removed]"
          },
          "metadata": {
            "needs_background": "light"
          }
        }
      ],
      "source": [
        "plt.hist(titanic_df[\"Age\"], bins = 100, color = ['indigo'])\n",
        "\n",
        "plt.title('Age Histogram')\n",
        "\n",
        "plt.xlabel('Age')\n",
        "plt.ylabel('Frequency')\n",
        "\n",
        "plt.show()\n",
        "\n",
        "\n",
        "#change the number of the bins and see what happens\n",
        "#change the color to your favorite color\n",
        "\n",
        "#To learn about more customizability, check out this documentation:\n",
        "#https://matplotlib.org/stable/api/_as_gen/matplotlib.pyplot.hist.html"
      ]
    },
    {
      "cell_type": "markdown",
      "id": "fb01faef",
      "metadata": {
        "id": "fb01faef"
      },
      "source": [
        "## Scatter Plot"
      ]
    },
    {
      "cell_type": "code",
      "execution_count": null,
      "id": "0abac7a0",
      "metadata": {
        "colab": {
          "base_uri": "https://localhost:8080/",
          "height": 312
        },
        "id": "0abac7a0",
        "outputId": "b227e961-9729-4ebd-c6ed-1314a00d7017"
      },
      "outputs": [
        {
          "output_type": "stream",
          "name": "stderr",
          "text": [
            "WARNING:matplotlib.legend:No artists with labels found to put in legend.  Note that artists whose label start with an underscore are ignored when legend() is called with no argument.\n"
          ]
        },
        {
          "output_type": "display_data",
          "data": {
            "text/plain": [
              "<Figure size 432x288 with 1 Axes>"
            ],
            "image/png": "[encoded data removed]"
          },
          "metadata": {
            "needs_background": "light"
          }
        }
      ],
      "source": [
        "plt.scatter(titanic_df[\"Age\"], titanic_df[\"Fare\"], c = titanic_df[\"Class\"].values.ravel())\n",
        "\n",
        "plt.title(\"Fare vs Age\")\n",
        "plt.xlabel(\"Age\")\n",
        "plt.ylabel(\"Fare\")\n",
        "plt.legend(scatterpoints =3)\n",
        "\n",
        "plt.show()\n",
        "\n",
        "#to see the unique values of a series:\n",
        "#titanic_df[\"Class\"].unique()"
      ]
    },
    {
      "cell_type": "markdown",
      "id": "548f83af",
      "metadata": {
        "id": "548f83af"
      },
      "source": [
        "## Correlation Plot"
      ]
    },
    {
      "cell_type": "code",
      "execution_count": null,
      "id": "7637f107",
      "metadata": {
        "colab": {
          "base_uri": "https://localhost:8080/",
          "height": 269
        },
        "id": "7637f107",
        "outputId": "05a7db1a-f3b1-4a6f-8cdf-f9aa50c5a22d"
      },
      "outputs": [
        {
          "output_type": "display_data",
          "data": {
            "text/plain": [
              "<Figure size 432x288 with 2 Axes>"
            ],
            "image/png": "[encoded data removed]"
          },
          "metadata": {
            "needs_background": "light"
          }
        }
      ],
      "source": [
        "corr = titanic_df.corr()\n",
        "sns.heatmap(corr, annot=True)\n",
        "plt.show()\n",
        "\n",
        "#If you don't want the numbers to show within the boxes, remove the [annot = True] parameter"
      ]
    },
    {
      "cell_type": "markdown",
      "id": "688da7d4",
      "metadata": {
        "id": "688da7d4"
      },
      "source": [
        "### This correlation plot is a bit hard to read, and some of these correlations don't provide useful information. \n",
        "Question: How can we make this more readable/less compact? What columns can we remove? How can we remove columns from a dataset?"
      ]
    },
    {
      "cell_type": "code",
      "execution_count": null,
      "id": "0ec8299f",
      "metadata": {
        "id": "0ec8299f"
      },
      "outputs": [],
      "source": [
        "#answer here"
      ]
    },
    {
      "cell_type": "markdown",
      "id": "36735f34",
      "metadata": {
        "id": "36735f34"
      },
      "source": [
        "## Distribution Plots"
      ]
    },
    {
      "cell_type": "code",
      "execution_count": null,
      "id": "63507d99",
      "metadata": {
        "colab": {
          "base_uri": "https://localhost:8080/",
          "height": 386
        },
        "id": "63507d99",
        "outputId": "cf9e5189-2b80-4ffc-faf1-01d767729804"
      },
      "outputs": [
        {
          "output_type": "execute_result",
          "data": {
            "text/plain": [
              "<seaborn.axisgrid.FacetGrid at 0x7faa3dbeffa0>"
            ]
          },
          "metadata": {},
          "execution_count": 15
        },
        {
          "output_type": "display_data",
          "data": {
            "text/plain": [
              "<Figure size 360x360 with 1 Axes>"
            ],
            "image/png": "[encoded data removed]"
          },
          "metadata": {
            "needs_background": "light"
          }
        }
      ],
      "source": [
        "sns.displot(data = titanic_df, x = \"Fare\", kind = \"kde\")\n",
        "#Note: to turn into histogram, change kind = \"hist\" as the parameter"
      ]
    },
    {
      "cell_type": "markdown",
      "id": "382bf1aa",
      "metadata": {
        "id": "382bf1aa"
      },
      "source": [
        "## Another Way of Visualizing the Titanic Data:\n",
        "\n",
        "Countplot: counts of observations in each categorical bin using bars\n"
      ]
    },
    {
      "cell_type": "code",
      "execution_count": null,
      "id": "367d670b",
      "metadata": {
        "colab": {
          "base_uri": "https://localhost:8080/",
          "height": 296
        },
        "id": "367d670b",
        "outputId": "df5e3d66-ff0a-46c9-996b-9eb8315c0afd"
      },
      "outputs": [
        {
          "output_type": "execute_result",
          "data": {
            "text/plain": [
              "<AxesSubplot:xlabel='Class', ylabel='count'>"
            ]
          },
          "metadata": {},
          "execution_count": 16
        },
        {
          "output_type": "display_data",
          "data": {
            "text/plain": [
              "<Figure size 432x288 with 1 Axes>"
            ],
            "image/png": "[encoded data removed]"
          },
          "metadata": {
            "needs_background": "light"
          }
        }
      ],
      "source": [
        "sns.countplot(data = titanic_df, x = \"Class\")"
      ]
    },
    {
      "cell_type": "markdown",
      "id": "729bcc2f",
      "metadata": {
        "id": "729bcc2f"
      },
      "source": [
        "Let's say we want to see what's the breakdown of whether or not people survived based on their ticket class. \n",
        "\n",
        "How can we do that? Use the documentation to determine which parameter to use.\n",
        "https://seaborn.pydata.org/generated/seaborn.countplot.html"
      ]
    },
    {
      "cell_type": "code",
      "execution_count": null,
      "id": "a16e7d29",
      "metadata": {
        "id": "a16e7d29"
      },
      "outputs": [],
      "source": [
        "#answer"
      ]
    },
    {
      "cell_type": "markdown",
      "source": [
        "# Linear Regressions with scikit-learn"
      ],
      "metadata": {
        "id": "AVbT9Ja82dz3"
      },
      "id": "AVbT9Ja82dz3"
    },
    {
      "cell_type": "code",
      "source": [
        "import numpy as np\n",
        "from sklearn.linear_model import LinearRegression"
      ],
      "metadata": {
        "id": "J2MrUdHe3IL8"
      },
      "id": "J2MrUdHe3IL8",
      "execution_count": null,
      "outputs": []
    },
    {
      "cell_type": "markdown",
      "source": [
        "## Simple Linear Regression Model\n",
        "\n",
        "We seek to estimate the Simple Linear Regression Model using the Least Squares Regression Line y = mX+b, where m = slope, b = intercept. This is also known as the line of best fit.\n",
        "\n"
      ],
      "metadata": {
        "id": "GqjRQaok3cPo"
      },
      "id": "GqjRQaok3cPo"
    },
    {
      "cell_type": "markdown",
      "source": [
        "Goal: Given *slope = 2*, *intercept = 3*, *X = [1,2,34,93]*, find *Y*, and then train a simple linear regression model where we can predict Y given X.\n",
        "\n",
        "First, let's calculate y = mX+b to obtain our y values."
      ],
      "metadata": {
        "id": "t8t_W0NSyPnO"
      },
      "id": "t8t_W0NSyPnO"
    },
    {
      "cell_type": "code",
      "source": [
        "slope = 2\n",
        "intercept = 3\n",
        "X = np.array([[1],[2],[34],[93]])\n",
        "X"
      ],
      "metadata": {
        "colab": {
          "base_uri": "https://localhost:8080/"
        },
        "id": "6KqsxsSy2inb",
        "outputId": "bf94bcca-843a-48ac-e944-969c9dda1dd3"
      },
      "id": "6KqsxsSy2inb",
      "execution_count": null,
      "outputs": [
        {
          "output_type": "execute_result",
          "data": {
            "text/plain": [
              "array([[ 1],\n",
              "       [ 2],\n",
              "       [34],\n",
              "       [93]])"
            ]
          },
          "metadata": {},
          "execution_count": 52
        }
      ]
    },
    {
      "cell_type": "code",
      "source": [
        "y = X*slope + intercept\n",
        "y\n",
        "\n",
        "#X*slope"
      ],
      "metadata": {
        "colab": {
          "base_uri": "https://localhost:8080/"
        },
        "id": "fKQlEjLH3QzZ",
        "outputId": "812d57e9-d98d-452f-c118-4f7ff422e681"
      },
      "id": "fKQlEjLH3QzZ",
      "execution_count": null,
      "outputs": [
        {
          "output_type": "execute_result",
          "data": {
            "text/plain": [
              "array([[  5],\n",
              "       [  7],\n",
              "       [ 71],\n",
              "       [189]])"
            ]
          },
          "metadata": {},
          "execution_count": 53
        }
      ]
    },
    {
      "cell_type": "markdown",
      "source": [
        "Note that [X\\*slope] is not regular multiplication. [X] is an array of constants, so \n",
        "[X\\*slope] is multiplying each constant in [X] by the constant [slope]. <br>\n",
        "Uncomment the last line in the cell above to see for yourself."
      ],
      "metadata": {
        "id": "-BxA5crH6Prl"
      },
      "id": "-BxA5crH6Prl"
    },
    {
      "cell_type": "markdown",
      "source": [
        "### Now, on to the fitting the model.\n",
        "\n",
        "When we are fitting the model, we are creating the equation y = (b_1)*x + b_0."
      ],
      "metadata": {
        "id": "Yxs3OIW481aT"
      },
      "id": "Yxs3OIW481aT"
    },
    {
      "cell_type": "code",
      "source": [
        "model = LinearRegression()\n",
        "fit = model.fit(X,y)\n",
        "print(fit.coef_, fit.intercept_)"
      ],
      "metadata": {
        "colab": {
          "base_uri": "https://localhost:8080/"
        },
        "id": "TohOx0li5k2J",
        "outputId": "d0c61ebd-7e2b-4269-97c7-b056b0999246"
      },
      "id": "TohOx0li5k2J",
      "execution_count": null,
      "outputs": [
        {
          "output_type": "stream",
          "name": "stdout",
          "text": [
            "[[2.]] [3.]\n"
          ]
        }
      ]
    },
    {
      "cell_type": "markdown",
      "source": [
        "Recall that we defined [X] as [ X = np.array([[1],[2],[34],[93]]) ]. The function fit requires that X has shape (# of samples, # of predictors). In this case, # of samples = 4, # of predictors = 1. To test that [X] is of that shape, run [X.shape].\n",
        "\n",
        "Note that there are many different ways of making X have that shape. We will cover another way below.\n"
      ],
      "metadata": {
        "id": "d45eyZc9Vbby"
      },
      "id": "d45eyZc9Vbby"
    },
    {
      "cell_type": "markdown",
      "source": [
        "### Let's now feed our fitted model the same x inputs to see if we obtain the same y outputs."
      ],
      "metadata": {
        "id": "xV_0jAbs89ej"
      },
      "id": "xV_0jAbs89ej"
    },
    {
      "cell_type": "code",
      "source": [
        "fit.predict(X)"
      ],
      "metadata": {
        "colab": {
          "base_uri": "https://localhost:8080/"
        },
        "id": "BLqAU7na7SR6",
        "outputId": "e2d1fc81-4aab-4c93-e101-d8c589038dc9"
      },
      "id": "BLqAU7na7SR6",
      "execution_count": null,
      "outputs": [
        {
          "output_type": "execute_result",
          "data": {
            "text/plain": [
              "array([[  5.],\n",
              "       [  7.],\n",
              "       [ 71.],\n",
              "       [189.]])"
            ]
          },
          "metadata": {},
          "execution_count": 55
        }
      ]
    },
    {
      "cell_type": "markdown",
      "source": [
        "## Now, let's work with some actual data"
      ],
      "metadata": {
        "id": "PTDRL_up9mD8"
      },
      "id": "PTDRL_up9mD8"
    },
    {
      "cell_type": "markdown",
      "source": [
        "For this section, we will use a different dataset. "
      ],
      "metadata": {
        "id": "0Ic22aeL9ryf"
      },
      "id": "0Ic22aeL9ryf"
    },
    {
      "cell_type": "code",
      "source": [
        "salary_df = pd.read_csv(\"Salary_Data.csv\")\n",
        "salary_df"
      ],
      "metadata": {
        "id": "wySp_5fO_OY4",
        "colab": {
          "base_uri": "https://localhost:8080/",
          "height": 990
        },
        "outputId": "7723117c-44b7-4c3c-bc5f-80107f4d691e"
      },
      "id": "wySp_5fO_OY4",
      "execution_count": null,
      "outputs": [
        {
          "output_type": "execute_result",
          "data": {
            "text/plain": [
              "    YearsExperience    Salary\n",
              "0               1.1   39343.0\n",
              "1               1.3   46205.0\n",
              "2               1.5   37731.0\n",
              "3               2.0   43525.0\n",
              "4               2.2   39891.0\n",
              "5               2.9   56642.0\n",
              "6               3.0   60150.0\n",
              "7               3.2   54445.0\n",
              "8               3.2   64445.0\n",
              "9               3.7   57189.0\n",
              "10              3.9   63218.0\n",
              "11              4.0   55794.0\n",
              "12              4.0   56957.0\n",
              "13              4.1   57081.0\n",
              "14              4.5   61111.0\n",
              "15              4.9   67938.0\n",
              "16              5.1   66029.0\n",
              "17              5.3   83088.0\n",
              "18              5.9   81363.0\n",
              "19              6.0   93940.0\n",
              "20              6.8   91738.0\n",
              "21              7.1   98273.0\n",
              "22              7.9  101302.0\n",
              "23              8.2  113812.0\n",
              "24              8.7  109431.0\n",
              "25              9.0  105582.0\n",
              "26              9.5  116969.0\n",
              "27              9.6  112635.0\n",
              "28             10.3  122391.0\n",
              "29             10.5  121872.0"
            ],
            "text/html": [
              "\n",
              "  <div id=\"df-1dbe61d7-a2a6-49bf-b539-4a232c7c68d2\">\n",
              "    <div class=\"colab-df-container\">\n",
              "      <div>\n",
              "<style scoped>\n",
              "    .dataframe tbody tr th:only-of-type {\n",
              "        vertical-align: middle;\n",
              "    }\n",
              "\n",
              "    .dataframe tbody tr th {\n",
              "        vertical-align: top;\n",
              "    }\n",
              "\n",
              "    .dataframe thead th {\n",
              "        text-align: right;\n",
              "    }\n",
              "</style>\n",
              "<table border=\"1\" class=\"dataframe\">\n",
              "  <thead>\n",
              "    <tr style=\"text-align: right;\">\n",
              "      <th></th>\n",
              "      <th>YearsExperience</th>\n",
              "      <th>Salary</th>\n",
              "    </tr>\n",
              "  </thead>\n",
              "  <tbody>\n",
              "    <tr>\n",
              "      <th>0</th>\n",
              "      <td>1.1</td>\n",
              "      <td>39343.0</td>\n",
              "    </tr>\n",
              "    <tr>\n",
              "      <th>1</th>\n",
              "      <td>1.3</td>\n",
              "      <td>46205.0</td>\n",
              "    </tr>\n",
              "    <tr>\n",
              "      <th>2</th>\n",
              "      <td>1.5</td>\n",
              "      <td>37731.0</td>\n",
              "    </tr>\n",
              "    <tr>\n",
              "      <th>3</th>\n",
              "      <td>2.0</td>\n",
              "      <td>43525.0</td>\n",
              "    </tr>\n",
              "    <tr>\n",
              "      <th>4</th>\n",
              "      <td>2.2</td>\n",
              "      <td>39891.0</td>\n",
              "    </tr>\n",
              "    <tr>\n",
              "      <th>5</th>\n",
              "      <td>2.9</td>\n",
              "      <td>56642.0</td>\n",
              "    </tr>\n",
              "    <tr>\n",
              "      <th>6</th>\n",
              "      <td>3.0</td>\n",
              "      <td>60150.0</td>\n",
              "    </tr>\n",
              "    <tr>\n",
              "      <th>7</th>\n",
              "      <td>3.2</td>\n",
              "      <td>54445.0</td>\n",
              "    </tr>\n",
              "    <tr>\n",
              "      <th>8</th>\n",
              "      <td>3.2</td>\n",
              "      <td>64445.0</td>\n",
              "    </tr>\n",
              "    <tr>\n",
              "      <th>9</th>\n",
              "      <td>3.7</td>\n",
              "      <td>57189.0</td>\n",
              "    </tr>\n",
              "    <tr>\n",
              "      <th>10</th>\n",
              "      <td>3.9</td>\n",
              "      <td>63218.0</td>\n",
              "    </tr>\n",
              "    <tr>\n",
              "      <th>11</th>\n",
              "      <td>4.0</td>\n",
              "      <td>55794.0</td>\n",
              "    </tr>\n",
              "    <tr>\n",
              "      <th>12</th>\n",
              "      <td>4.0</td>\n",
              "      <td>56957.0</td>\n",
              "    </tr>\n",
              "    <tr>\n",
              "      <th>13</th>\n",
              "      <td>4.1</td>\n",
              "      <td>57081.0</td>\n",
              "    </tr>\n",
              "    <tr>\n",
              "      <th>14</th>\n",
              "      <td>4.5</td>\n",
              "      <td>61111.0</td>\n",
              "    </tr>\n",
              "    <tr>\n",
              "      <th>15</th>\n",
              "      <td>4.9</td>\n",
              "      <td>67938.0</td>\n",
              "    </tr>\n",
              "    <tr>\n",
              "      <th>16</th>\n",
              "      <td>5.1</td>\n",
              "      <td>66029.0</td>\n",
              "    </tr>\n",
              "    <tr>\n",
              "      <th>17</th>\n",
              "      <td>5.3</td>\n",
              "      <td>83088.0</td>\n",
              "    </tr>\n",
              "    <tr>\n",
              "      <th>18</th>\n",
              "      <td>5.9</td>\n",
              "      <td>81363.0</td>\n",
              "    </tr>\n",
              "    <tr>\n",
              "      <th>19</th>\n",
              "      <td>6.0</td>\n",
              "      <td>93940.0</td>\n",
              "    </tr>\n",
              "    <tr>\n",
              "      <th>20</th>\n",
              "      <td>6.8</td>\n",
              "      <td>91738.0</td>\n",
              "    </tr>\n",
              "    <tr>\n",
              "      <th>21</th>\n",
              "      <td>7.1</td>\n",
              "      <td>98273.0</td>\n",
              "    </tr>\n",
              "    <tr>\n",
              "      <th>22</th>\n",
              "      <td>7.9</td>\n",
              "      <td>101302.0</td>\n",
              "    </tr>\n",
              "    <tr>\n",
              "      <th>23</th>\n",
              "      <td>8.2</td>\n",
              "      <td>113812.0</td>\n",
              "    </tr>\n",
              "    <tr>\n",
              "      <th>24</th>\n",
              "      <td>8.7</td>\n",
              "      <td>109431.0</td>\n",
              "    </tr>\n",
              "    <tr>\n",
              "      <th>25</th>\n",
              "      <td>9.0</td>\n",
              "      <td>105582.0</td>\n",
              "    </tr>\n",
              "    <tr>\n",
              "      <th>26</th>\n",
              "      <td>9.5</td>\n",
              "      <td>116969.0</td>\n",
              "    </tr>\n",
              "    <tr>\n",
              "      <th>27</th>\n",
              "      <td>9.6</td>\n",
              "      <td>112635.0</td>\n",
              "    </tr>\n",
              "    <tr>\n",
              "      <th>28</th>\n",
              "      <td>10.3</td>\n",
              "      <td>122391.0</td>\n",
              "    </tr>\n",
              "    <tr>\n",
              "      <th>29</th>\n",
              "      <td>10.5</td>\n",
              "      <td>121872.0</td>\n",
              "    </tr>\n",
              "  </tbody>\n",
              "</table>\n",
              "</div>\n",
              "      <button class=\"colab-df-convert\" onclick=\"convertToInteractive('df-1dbe61d7-a2a6-49bf-b539-4a232c7c68d2')\"\n",
              "              title=\"Convert this dataframe to an interactive table.\"\n",
              "              style=\"display:none;\">\n",
              "        \n",
              "  <svg xmlns=\"http://www.w3.org/2000/svg\" height=\"24px\"viewBox=\"0 0 24 24\"\n",
              "       width=\"24px\">\n",
              "    <path d=\"M0 0h24v24H0V0z\" fill=\"none\"/>\n",
              "    <path d=\"M18.56 5.44l.94 2.06.94-2.06 2.06-.94-2.06-.94-.94-2.06-.94 2.06-2.06.94zm-11 1L8.5 8.5l.94-2.06 2.06-.94-2.06-.94L8.5 2.5l-.94 2.06-2.06.94zm10 10l.94 2.06.94-2.06 2.06-.94-2.06-.94-.94-2.06-.94 2.06-2.06.94z\"/><path d=\"M17.41 7.96l-1.37-1.37c-.4-.4-.92-.59-1.43-.59-.52 0-1.04.2-1.43.59L10.3 9.45l-7.72 7.72c-.78.78-.78 2.05 0 2.83L4 21.41c.39.39.9.59 1.41.59.51 0 1.02-.2 1.41-.59l7.78-7.78 2.81-2.81c.8-.78.8-2.07 0-2.86zM5.41 20L4 18.59l7.72-7.72 1.47 1.35L5.41 20z\"/>\n",
              "  </svg>\n",
              "      </button>\n",
              "      \n",
              "  <style>\n",
              "    .colab-df-container {\n",
              "      display:flex;\n",
              "      flex-wrap:wrap;\n",
              "      gap: 12px;\n",
              "    }\n",
              "\n",
              "    .colab-df-convert {\n",
              "      background-color: #E8F0FE;\n",
              "      border: none;\n",
              "      border-radius: 50%;\n",
              "      cursor: pointer;\n",
              "      display: none;\n",
              "      fill: #1967D2;\n",
              "      height: 32px;\n",
              "      padding: 0 0 0 0;\n",
              "      width: 32px;\n",
              "    }\n",
              "\n",
              "    .colab-df-convert:hover {\n",
              "      background-color: #E2EBFA;\n",
              "      box-shadow: 0px 1px 2px rgba(60, 64, 67, 0.3), 0px 1px 3px 1px rgba(60, 64, 67, 0.15);\n",
              "      fill: #174EA6;\n",
              "    }\n",
              "\n",
              "    [theme=dark] .colab-df-convert {\n",
              "      background-color: #3B4455;\n",
              "      fill: #D2E3FC;\n",
              "    }\n",
              "\n",
              "    [theme=dark] .colab-df-convert:hover {\n",
              "      background-color: #434B5C;\n",
              "      box-shadow: 0px 1px 3px 1px rgba(0, 0, 0, 0.15);\n",
              "      filter: drop-shadow(0px 1px 2px rgba(0, 0, 0, 0.3));\n",
              "      fill: #FFFFFF;\n",
              "    }\n",
              "  </style>\n",
              "\n",
              "      <script>\n",
              "        const buttonEl =\n",
              "          document.querySelector('#df-1dbe61d7-a2a6-49bf-b539-4a232c7c68d2 button.colab-df-convert');\n",
              "        buttonEl.style.display =\n",
              "          google.colab.kernel.accessAllowed ? 'block' : 'none';\n",
              "\n",
              "        async function convertToInteractive(key) {\n",
              "          const element = document.querySelector('#df-1dbe61d7-a2a6-49bf-b539-4a232c7c68d2');\n",
              "          const dataTable =\n",
              "            await google.colab.kernel.invokeFunction('convertToInteractive',\n",
              "                                                     [key], {});\n",
              "          if (!dataTable) return;\n",
              "\n",
              "          const docLinkHtml = 'Like what you see? Visit the ' +\n",
              "            '<a target=\"_blank\" href=https://colab.research.google.com/notebooks/data_table.ipynb>data table notebook</a>'\n",
              "            + ' to learn more about interactive tables.';\n",
              "          element.innerHTML = '';\n",
              "          dataTable['output_type'] = 'display_data';\n",
              "          await google.colab.output.renderOutput(dataTable, element);\n",
              "          const docLink = document.createElement('div');\n",
              "          docLink.innerHTML = docLinkHtml;\n",
              "          element.appendChild(docLink);\n",
              "        }\n",
              "      </script>\n",
              "    </div>\n",
              "  </div>\n",
              "  "
            ]
          },
          "metadata": {},
          "execution_count": 4
        }
      ]
    },
    {
      "cell_type": "code",
      "source": [
        "import pandas as pd"
      ],
      "metadata": {
        "id": "etrcCLWkU8bk"
      },
      "id": "etrcCLWkU8bk",
      "execution_count": null,
      "outputs": []
    },
    {
      "cell_type": "code",
      "source": [
        "salary_df.info()"
      ],
      "metadata": {
        "colab": {
          "base_uri": "https://localhost:8080/",
          "height": 166
        },
        "id": "fIdY5cD5_sIP",
        "outputId": "e857e3ed-590e-4c62-8765-ae43bf8cbdd2"
      },
      "id": "fIdY5cD5_sIP",
      "execution_count": null,
      "outputs": [
        {
          "output_type": "error",
          "ename": "NameError",
          "evalue": "ignored",
          "traceback": [
            "\u001b[0;31m---------------------------------------------------------------------------\u001b[0m",
            "\u001b[0;31mNameError\u001b[0m                                 Traceback (most recent call last)",
            "\u001b[0;32m<ipython-input-1-aec6e8a56438>\u001b[0m in \u001b[0;36m<module>\u001b[0;34m\u001b[0m\n\u001b[0;32m----> 1\u001b[0;31m \u001b[0msalary_df\u001b[0m\u001b[0;34m.\u001b[0m\u001b[0minfo\u001b[0m\u001b[0;34m(\u001b[0m\u001b[0;34m)\u001b[0m\u001b[0;34m\u001b[0m\u001b[0;34m\u001b[0m\u001b[0m\n\u001b[0m",
            "\u001b[0;31mNameError\u001b[0m: name 'salary_df' is not defined"
          ]
        }
      ]
    },
    {
      "cell_type": "code",
      "source": [
        "salary_df.head()"
      ],
      "metadata": {
        "colab": {
          "base_uri": "https://localhost:8080/",
          "height": 206
        },
        "id": "lmWhaXWI_3sz",
        "outputId": "99a87659-6c63-44c9-d185-a797b7a18340"
      },
      "id": "lmWhaXWI_3sz",
      "execution_count": null,
      "outputs": [
        {
          "output_type": "execute_result",
          "data": {
            "text/plain": [
              "   YearsExperience   Salary\n",
              "0              1.1  39343.0\n",
              "1              1.3  46205.0\n",
              "2              1.5  37731.0\n",
              "3              2.0  43525.0\n",
              "4              2.2  39891.0"
            ],
            "text/html": [
              "\n",
              "  <div id=\"df-e121053b-1844-4a75-a3d9-de8d760ac74a\">\n",
              "    <div class=\"colab-df-container\">\n",
              "      <div>\n",
              "<style scoped>\n",
              "    .dataframe tbody tr th:only-of-type {\n",
              "        vertical-align: middle;\n",
              "    }\n",
              "\n",
              "    .dataframe tbody tr th {\n",
              "        vertical-align: top;\n",
              "    }\n",
              "\n",
              "    .dataframe thead th {\n",
              "        text-align: right;\n",
              "    }\n",
              "</style>\n",
              "<table border=\"1\" class=\"dataframe\">\n",
              "  <thead>\n",
              "    <tr style=\"text-align: right;\">\n",
              "      <th></th>\n",
              "      <th>YearsExperience</th>\n",
              "      <th>Salary</th>\n",
              "    </tr>\n",
              "  </thead>\n",
              "  <tbody>\n",
              "    <tr>\n",
              "      <th>0</th>\n",
              "      <td>1.1</td>\n",
              "      <td>39343.0</td>\n",
              "    </tr>\n",
              "    <tr>\n",
              "      <th>1</th>\n",
              "      <td>1.3</td>\n",
              "      <td>46205.0</td>\n",
              "    </tr>\n",
              "    <tr>\n",
              "      <th>2</th>\n",
              "      <td>1.5</td>\n",
              "      <td>37731.0</td>\n",
              "    </tr>\n",
              "    <tr>\n",
              "      <th>3</th>\n",
              "      <td>2.0</td>\n",
              "      <td>43525.0</td>\n",
              "    </tr>\n",
              "    <tr>\n",
              "      <th>4</th>\n",
              "      <td>2.2</td>\n",
              "      <td>39891.0</td>\n",
              "    </tr>\n",
              "  </tbody>\n",
              "</table>\n",
              "</div>\n",
              "      <button class=\"colab-df-convert\" onclick=\"convertToInteractive('df-e121053b-1844-4a75-a3d9-de8d760ac74a')\"\n",
              "              title=\"Convert this dataframe to an interactive table.\"\n",
              "              style=\"display:none;\">\n",
              "        \n",
              "  <svg xmlns=\"http://www.w3.org/2000/svg\" height=\"24px\"viewBox=\"0 0 24 24\"\n",
              "       width=\"24px\">\n",
              "    <path d=\"M0 0h24v24H0V0z\" fill=\"none\"/>\n",
              "    <path d=\"M18.56 5.44l.94 2.06.94-2.06 2.06-.94-2.06-.94-.94-2.06-.94 2.06-2.06.94zm-11 1L8.5 8.5l.94-2.06 2.06-.94-2.06-.94L8.5 2.5l-.94 2.06-2.06.94zm10 10l.94 2.06.94-2.06 2.06-.94-2.06-.94-.94-2.06-.94 2.06-2.06.94z\"/><path d=\"M17.41 7.96l-1.37-1.37c-.4-.4-.92-.59-1.43-.59-.52 0-1.04.2-1.43.59L10.3 9.45l-7.72 7.72c-.78.78-.78 2.05 0 2.83L4 21.41c.39.39.9.59 1.41.59.51 0 1.02-.2 1.41-.59l7.78-7.78 2.81-2.81c.8-.78.8-2.07 0-2.86zM5.41 20L4 18.59l7.72-7.72 1.47 1.35L5.41 20z\"/>\n",
              "  </svg>\n",
              "      </button>\n",
              "      \n",
              "  <style>\n",
              "    .colab-df-container {\n",
              "      display:flex;\n",
              "      flex-wrap:wrap;\n",
              "      gap: 12px;\n",
              "    }\n",
              "\n",
              "    .colab-df-convert {\n",
              "      background-color: #E8F0FE;\n",
              "      border: none;\n",
              "      border-radius: 50%;\n",
              "      cursor: pointer;\n",
              "      display: none;\n",
              "      fill: #1967D2;\n",
              "      height: 32px;\n",
              "      padding: 0 0 0 0;\n",
              "      width: 32px;\n",
              "    }\n",
              "\n",
              "    .colab-df-convert:hover {\n",
              "      background-color: #E2EBFA;\n",
              "      box-shadow: 0px 1px 2px rgba(60, 64, 67, 0.3), 0px 1px 3px 1px rgba(60, 64, 67, 0.15);\n",
              "      fill: #174EA6;\n",
              "    }\n",
              "\n",
              "    [theme=dark] .colab-df-convert {\n",
              "      background-color: #3B4455;\n",
              "      fill: #D2E3FC;\n",
              "    }\n",
              "\n",
              "    [theme=dark] .colab-df-convert:hover {\n",
              "      background-color: #434B5C;\n",
              "      box-shadow: 0px 1px 3px 1px rgba(0, 0, 0, 0.15);\n",
              "      filter: drop-shadow(0px 1px 2px rgba(0, 0, 0, 0.3));\n",
              "      fill: #FFFFFF;\n",
              "    }\n",
              "  </style>\n",
              "\n",
              "      <script>\n",
              "        const buttonEl =\n",
              "          document.querySelector('#df-e121053b-1844-4a75-a3d9-de8d760ac74a button.colab-df-convert');\n",
              "        buttonEl.style.display =\n",
              "          google.colab.kernel.accessAllowed ? 'block' : 'none';\n",
              "\n",
              "        async function convertToInteractive(key) {\n",
              "          const element = document.querySelector('#df-e121053b-1844-4a75-a3d9-de8d760ac74a');\n",
              "          const dataTable =\n",
              "            await google.colab.kernel.invokeFunction('convertToInteractive',\n",
              "                                                     [key], {});\n",
              "          if (!dataTable) return;\n",
              "\n",
              "          const docLinkHtml = 'Like what you see? Visit the ' +\n",
              "            '<a target=\"_blank\" href=https://colab.research.google.com/notebooks/data_table.ipynb>data table notebook</a>'\n",
              "            + ' to learn more about interactive tables.';\n",
              "          element.innerHTML = '';\n",
              "          dataTable['output_type'] = 'display_data';\n",
              "          await google.colab.output.renderOutput(dataTable, element);\n",
              "          const docLink = document.createElement('div');\n",
              "          docLink.innerHTML = docLinkHtml;\n",
              "          element.appendChild(docLink);\n",
              "        }\n",
              "      </script>\n",
              "    </div>\n",
              "  </div>\n",
              "  "
            ]
          },
          "metadata": {},
          "execution_count": 32
        }
      ]
    },
    {
      "cell_type": "markdown",
      "source": [
        "Goal: predict salary based on years of experience\n",
        "\n",
        "Point of Attack:\n",
        "1. SPLIT THE DATA INTO **TRAINING** AND **TESTING** DATA\n",
        "2. Specify our model\n",
        "3. Fit model based on our **training** data\n",
        "4. Predict with our model using our **testing input** data\n",
        "5. Use an **accuracy** measure to determine the difference between our **testing output** data and **predictions**"
      ],
      "metadata": {
        "id": "uiFHTzdfAxTa"
      },
      "id": "uiFHTzdfAxTa"
    },
    {
      "cell_type": "markdown",
      "source": [
        "### What is Training and Testing Data?\n",
        "\n",
        "The train-test split procedure is a way to evaluate the performance of our model. It is important to assess our model on data that was not used to fit the model, or not used to estimate the slope and the intercept for a linear regression, so that we can have an unbiased evaluation of the prediction performance."
      ],
      "metadata": {
        "id": "zeM0t_Rm6qI3"
      },
      "id": "zeM0t_Rm6qI3"
    },
    {
      "cell_type": "markdown",
      "source": [
        "Now, let's jump into the coding"
      ],
      "metadata": {
        "id": "OwHEYIQM7bPo"
      },
      "id": "OwHEYIQM7bPo"
    },
    {
      "cell_type": "code",
      "source": [
        "from sklearn.model_selection import train_test_split"
      ],
      "metadata": {
        "id": "VzBjT7b6_x74"
      },
      "id": "VzBjT7b6_x74",
      "execution_count": null,
      "outputs": []
    },
    {
      "cell_type": "code",
      "source": [
        "#step 1\n",
        "X_train, X_test, y_train, y_test = train_test_split(salary_df[[\"YearsExperience\"]], salary_df[\"Salary\"], test_size = 0.25)\n",
        "#test size specifies the proportion of the dataset to include in the test split."
      ],
      "metadata": {
        "id": "p1ZTNczOCk2u"
      },
      "id": "p1ZTNczOCk2u",
      "execution_count": null,
      "outputs": []
    },
    {
      "cell_type": "markdown",
      "source": [
        "Let's briefly pause and see what has happened."
      ],
      "metadata": {
        "id": "1P9uSHdxDQyI"
      },
      "id": "1P9uSHdxDQyI"
    },
    {
      "cell_type": "code",
      "source": [
        "print(\"length of X_train: \" + str(len(X_train)), \"\\nlength of Y_train: \" + str(len(y_train)), \"\\nlength of X_test: \" + str(len(X_test)), \\\n",
        "      \"\\nlength of Y_test: \" + str(len(y_test)))\n",
        "\n",
        "#salary_df[[\"YearsExperience\"]]\n",
        "#uncomment to see what it looks like"
      ],
      "metadata": {
        "colab": {
          "base_uri": "https://localhost:8080/"
        },
        "id": "MoHjJWPwDRR4",
        "outputId": "99cf1d0a-f6c3-4e6d-f34e-0d3faf9c44e4"
      },
      "id": "MoHjJWPwDRR4",
      "execution_count": null,
      "outputs": [
        {
          "output_type": "stream",
          "name": "stdout",
          "text": [
            "length of X_train: 22 \n",
            "length of Y_train: 22 \n",
            "length of X_test: 8 \n",
            "length of Y_test: 8\n"
          ]
        }
      ]
    },
    {
      "cell_type": "markdown",
      "source": [
        "Remember: we have 30 data points, and our test split was 0.25, and 30*0.25 is roughly 8, so this makes sense."
      ],
      "metadata": {
        "id": "EhxwpNOzEMG-"
      },
      "id": "EhxwpNOzEMG-"
    },
    {
      "cell_type": "markdown",
      "source": [
        "### Fitting the Model and Obtaining our Predictions"
      ],
      "metadata": {
        "id": "YkDKYf4L7qqE"
      },
      "id": "YkDKYf4L7qqE"
    },
    {
      "cell_type": "markdown",
      "source": [
        "Now, try to perform steps 2, 3, and 4 from above, where we fit the model with X_train and y_train, and X_test will represent the inputs we use to predict."
      ],
      "metadata": {
        "id": "u93OqReDvyxZ"
      },
      "id": "u93OqReDvyxZ"
    },
    {
      "cell_type": "code",
      "source": [
        "#steps 2 & 3 & 4"
      ],
      "metadata": {
        "id": "ItUdZ2dZERdq"
      },
      "id": "ItUdZ2dZERdq",
      "execution_count": null,
      "outputs": []
    },
    {
      "cell_type": "markdown",
      "source": [
        "### Accuracy Score"
      ],
      "metadata": {
        "id": "N_ihR_kG72XJ"
      },
      "id": "N_ihR_kG72XJ"
    },
    {
      "cell_type": "markdown",
      "source": [
        "Now, we will use the testing data from our training-testing split on our model to evaluate how well our model predicts outputs."
      ],
      "metadata": {
        "id": "dKIjy0Jz8MHd"
      },
      "id": "dKIjy0Jz8MHd"
    },
    {
      "cell_type": "code",
      "source": [
        "#step 5\n",
        "#print(\"Score:\", model.score(X_test, y_test))"
      ],
      "metadata": {
        "id": "UXIQN3OmEu4r"
      },
      "id": "UXIQN3OmEu4r",
      "execution_count": null,
      "outputs": []
    },
    {
      "cell_type": "markdown",
      "source": [
        "### Plotting Question: Use one of the functions above to plot the test_inputs (X) with the predictions (Y) we obtained. Try to label your x- and y-axis as well. <br>"
      ],
      "metadata": {
        "id": "I24cfETKnb5c"
      },
      "id": "I24cfETKnb5c"
    },
    {
      "cell_type": "code",
      "source": [
        "#answer here"
      ],
      "metadata": {
        "id": "Uqugu377ocoK"
      },
      "id": "Uqugu377ocoK",
      "execution_count": null,
      "outputs": []
    },
    {
      "cell_type": "markdown",
      "source": [
        "### Let's take a minute to compare our fitted values and our observed values (uncomment the code in the cell below). <br>\n",
        "\n",
        "Fitted Values: what our model predicts when we feed it X_train. <br>\n",
        "Observed Values: Y_train (output in our training set)"
      ],
      "metadata": {
        "id": "VtKmQIbA4PIj"
      },
      "id": "VtKmQIbA4PIj"
    },
    {
      "cell_type": "code",
      "source": [
        "# fitted_values = model.predict(X_train) \n",
        "# d = {\"observed\": y_train, \"fitted\": fitted_values, \"residual\": y_train - fitted_values}\n",
        "# df = pd.DataFrame(data=d)\n",
        "# df\n",
        "#note the indices are funky because the data was split randomly into training and testing, and they kept their original indices from the dataset"
      ],
      "metadata": {
        "id": "eL31kQjD14Ux"
      },
      "id": "eL31kQjD14Ux",
      "execution_count": null,
      "outputs": []
    }
  ],
  "metadata": {
    "kernelspec": {
      "display_name": "Python 3 (ipykernel)",
      "language": "python",
      "name": "python3"
    },
    "language_info": {
      "codemirror_mode": {
        "name": "ipython",
        "version": 3
      },
      "file_extension": ".py",
      "mimetype": "text/x-python",
      "name": "python",
      "nbconvert_exporter": "python",
      "pygments_lexer": "ipython3",
      "version": "3.9.12"
    },
    "colab": {
      "provenance": []
    }
  },
  "nbformat": 4,
  "nbformat_minor": 5
}